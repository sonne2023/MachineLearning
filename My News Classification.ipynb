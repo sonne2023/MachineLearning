{
 "cells": [
  {
   "cell_type": "markdown",
   "metadata": {},
   "source": [
    "News classification"
   ]
  },
  {
   "cell_type": "code",
   "execution_count": 53,
   "metadata": {},
   "outputs": [],
   "source": [
    "from sklearn.datasets import fetch_20newsgroups"
   ]
  },
  {
   "cell_type": "code",
   "execution_count": 54,
   "metadata": {},
   "outputs": [],
   "source": [
    "newsgroups_train = fetch_20newsgroups(subset='train')\n",
    "newsgroups_test = fetch_20newsgroups(subset='test')"
   ]
  },
  {
   "cell_type": "code",
   "execution_count": 55,
   "metadata": {},
   "outputs": [
    {
     "data": {
      "text/plain": [
       "dict_keys(['data', 'filenames', 'target_names', 'target', 'DESCR'])"
      ]
     },
     "execution_count": 55,
     "metadata": {},
     "output_type": "execute_result"
    }
   ],
   "source": [
    "newsgroups_train.keys()"
   ]
  },
  {
   "cell_type": "code",
   "execution_count": 56,
   "metadata": {},
   "outputs": [
    {
     "name": "stdout",
     "output_type": "stream",
     "text": [
      "From: lerxst@wam.umd.edu (where's my thing)\n",
      "Subject: WHAT car is this!?\n",
      "Nntp-Posting-Host: rac3.wam.umd.edu\n",
      "Organization: University of Maryland, College Park\n",
      "Lines: 15\n",
      "\n",
      " I was wondering if anyone out there could enlighten me on this car I saw\n",
      "the other day. It was a 2-door sports car, looked to be from the late 60s/\n",
      "early 70s. It was called a Bricklin. The doors were really small. In addition,\n",
      "the front bumper was separate from the rest of the body. This is \n",
      "all I know. If anyone can tellme a model name, engine specs, years\n",
      "of production, where this car is made, history, or whatever info you\n",
      "have on this funky looking car, please e-mail.\n",
      "\n",
      "Thanks,\n",
      "- IL\n",
      "   ---- brought to you by your neighborhood Lerxst ----\n",
      "\n",
      "\n",
      "\n",
      "\n",
      "\n"
     ]
    }
   ],
   "source": [
    "print (newsgroups_train.data[0])"
   ]
  },
  {
   "cell_type": "markdown",
   "metadata": {},
   "source": [
    "Text preprocessing"
   ]
  },
  {
   "cell_type": "code",
   "execution_count": 57,
   "metadata": {},
   "outputs": [
    {
     "name": "stderr",
     "output_type": "stream",
     "text": [
      "[nltk_data] Downloading package stopwords to\n",
      "[nltk_data]     C:\\Users\\Администратор\\AppData\\Roaming\\nltk_data...\n",
      "[nltk_data]   Package stopwords is already up-to-date!\n",
      "[nltk_data] Downloading package punkt to\n",
      "[nltk_data]     C:\\Users\\Администратор\\AppData\\Roaming\\nltk_data...\n",
      "[nltk_data]   Package punkt is already up-to-date!\n"
     ]
    }
   ],
   "source": [
    "import nltk\n",
    "nltk.download('stopwords')\n",
    "nltk.download('punkt')\n",
    "from nltk.corpus import stopwords\n",
    "from nltk.tokenize import word_tokenize\n",
    "import re"
   ]
  },
  {
   "cell_type": "code",
   "execution_count": 58,
   "metadata": {},
   "outputs": [],
   "source": [
    "def preprocess_text(texts):\n",
    "    stop_words = set(stopwords.words('english'))\n",
    "    regex = re.compile('[^a-z A-Z]')\n",
    "    preprocess_texts = []\n",
    "    for i in range(len(texts)):\n",
    "        text = texts[i].lower()\n",
    "        text = regex.sub(' ', text)\n",
    "        word_tokens = word_tokenize(text) \n",
    "        filtered_sentence = [w for w in word_tokens if not w in stop_words] \n",
    "        preprocess_texts.append( ' '.join(filtered_sentence))\n",
    "    \n",
    "    return preprocess_texts"
   ]
  },
  {
   "cell_type": "code",
   "execution_count": 59,
   "metadata": {},
   "outputs": [],
   "source": [
    "newsgroups_train['preprocess_data'] = preprocess_text(newsgroups_train.data)"
   ]
  },
 
      
      ]
     },
     "execution_count": 60,
     "metadata": {},
     "output_type": "execute_result"
    }
   ],
   "source": [
    "newsgroups_train['preprocess_data']"
   ]
  },
  {
   "cell_type": "code",
   "execution_count": 61,
   "metadata": {},
   "outputs": [],
   "source": [
    "newsgroups_test['preprocess_data'] = preprocess_text(newsgroups_test.data)"
   ]
  },
  {
   "cell_type": "markdown",
   "metadata": {},
   "source": [
    "Stemming"
   ]
  },
  {
   "cell_type": "code",
   "execution_count": 62,
   "metadata": {},
   "outputs": [],
   "source": [
    "from nltk.stem.lancaster import LancasterStemmer"
   ]
  },
  {
   "cell_type": "code",
   "execution_count": 63,
   "metadata": {},
   "outputs": [],
   "source": [
    "def stemming_texts(texts):\n",
    "  st = LancasterStemmer()\n",
    "  stem_text = []\n",
    "  for text in texts:\n",
    "    word_tokens = word_tokenize(text)\n",
    "    stem_text.append(' '.join([st.stem(word) for word in word_tokens]))\n",
    "  return stem_text"
   ]
  },
  {
   "cell_type": "code",
   "execution_count": 64,
   "metadata": {},
   "outputs": [],
   "source": [
    "newsgroups_train['data_stemming'] = \\\n",
    "                           stemming_texts(newsgroups_train.preprocess_data)"
   ]
  },
  {
   "cell_type": "code",
   "execution_count": 65,
   "metadata": {},
   "outputs": [],
   "source": [
    "newsgroups_test['data_stemming'] = \\\n",
    "                            stemming_texts(newsgroups_test.preprocess_data)"
   ]
  },
  {
   "cell_type": "markdown",
   "metadata": {},
   "source": [
    "Embedding with 'Bag Of Words'"
   ]
  },
  {
   "cell_type": "code",
   "execution_count": 66,
   "metadata": {},
   "outputs": [],
   "source": [
    "from sklearn.feature_extraction.text import CountVectorizer"
   ]
  },
  {
   "cell_type": "code",
   "execution_count": 67,
   "metadata": {},
   "outputs": [],
   "source": [
    "vectorizer = CountVectorizer()"
   ]
  },
  {
   "cell_type": "code",
   "execution_count": 68,
   "metadata": {},
   "outputs": [],
   "source": [
    "def bow(vectorizer, train, test):\n",
    "  train_bow = vectorizer.fit_transform(train)\n",
    "  test_bow = vectorizer.transform(test)\n",
    "  return train_bow, test_bow  "
   ]
  },
  {
   "cell_type": "code",
   "execution_count": 69,
   "metadata": {},
   "outputs": [],
   "source": [
    " # BagOfWords on \"train\" and \"test\" data without preprocessing\n",
    "X_train_bow, X_test_bow = bow(vectorizer, \n",
    "                              newsgroups_train.data, \n",
    "                              newsgroups_test.data)  "
   ]
  },
  {
   "cell_type": "code",
   "execution_count": 70,
   "metadata": {},
   "outputs": [
    {
     "data": {
      "text/plain": [
       "(11314, 130107)"
      ]
     },
     "execution_count": 70,
     "metadata": {},
     "output_type": "execute_result"
    }
   ],
   "source": [
    "# The array size\n",
    "X_train_bow.shape"
   ]
  },
  {
   "cell_type": "code",
   "execution_count": 71,
   "metadata": {},
   "outputs": [
    {
     "data": {
      "text/plain": [
       "(7532, 130107)"
      ]
     },
     "execution_count": 71,
     "metadata": {},
     "output_type": "execute_result"
    }
   ],
   "source": [
    "X_test_bow.shape"
   ]
  },
  {
   "cell_type": "code",
   "execution_count": 72,
   "metadata": {},
   "outputs": [],
   "source": [
    "# BagOfWords on preprocessed data\n",
    "X_train_bow_preprocess, X_test_bow_preprocess = bow(vectorizer, \n",
    "                                                    newsgroups_train.preprocess_data,\n",
    "                                                    newsgroups_test.preprocess_data)  "
   ]
  },
  {
   "cell_type": "code",
   "execution_count": 73,
   "metadata": {},
   "outputs": [
    {
     "data": {
      "text/plain": [
       "(11314, 88863)"
      ]
     },
     "execution_count": 73,
     "metadata": {},
     "output_type": "execute_result"
    }
   ],
   "source": [
    "X_train_bow_preprocess.shape"
   ]
  },
  {
   "cell_type": "code",
   "execution_count": 74,
   "metadata": {},
   "outputs": [
    {
     "data": {
      "text/plain": [
       "(7532, 88863)"
      ]
     },
     "execution_count": 74,
     "metadata": {},
     "output_type": "execute_result"
    }
   ],
   "source": [
    "X_test_bow_preprocess.shape"
   ]
  },
  {
   "cell_type": "code",
   "execution_count": 75,
   "metadata": {},
   "outputs": [],
   "source": [
    "# BagOfWords after stemming\n",
    "X_train_bow_stem, X_test_bow_stem = bow(vectorizer, \n",
    "                                        newsgroups_train.data_stemming,\n",
    "                                        newsgroups_test.data_stemming)"
   ]
  },
  {
   "cell_type": "code",
   "execution_count": 76,
   "metadata": {},
   "outputs": [
    {
     "data": {
      "text/plain": [
       "(11314, 61221)"
      ]
     },
     "execution_count": 76,
     "metadata": {},
     "output_type": "execute_result"
    }
   ],
   "source": [
    "X_train_bow_stem.shape"
   ]
  },
  {
   "cell_type": "code",
   "execution_count": 77,
   "metadata": {},
   "outputs": [
    {
     "data": {
      "text/plain": [
       "(7532, 61221)"
      ]
     },
     "execution_count": 77,
     "metadata": {},
     "output_type": "execute_result"
    }
   ],
   "source": [
    "X_test_bow_stem.shape"
   ]
  },
  {
   "cell_type": "markdown",
   "metadata": {},
   "source": [
    "Logistic regression for classification (BagOfWords on data after stemming)"
   ]
  },
  {
   "cell_type": "code",
   "execution_count": 78,
   "metadata": {},
   "outputs": [],
   "source": [
    "from sklearn.metrics import accuracy_score\n",
    "import numpy as np"
   ]
  },
  {
   "cell_type": "code",
   "execution_count": 79,
   "metadata": {},
   "outputs": [],
   "source": [
    "from sklearn.linear_model import LogisticRegression\n",
    "clf = LogisticRegression(max_iter = 1000)"
   ]
  },
  {
   "cell_type": "code",
   "execution_count": 80,
   "metadata": {},
   "outputs": [
    {
     "name": "stdout",
     "output_type": "stream",
     "text": [
      "LogisticRegression:  0.7966011683483802\n"
     ]
    }
   ],
   "source": [
    "clf.fit(X_train_bow_stem, newsgroups_train.target)\n",
    "print ('LogisticRegression: ',\n",
    "       accuracy_score(clf.predict(X_test_bow_stem),\n",
    "                      newsgroups_test.target))\n"
   ]
  },
  {
   "cell_type": "markdown",
   "metadata": {},
   "source": [
    "Embedding with 'TF-IDF'"
   ]
  },
  {
   "cell_type": "code",
   "execution_count": 81,
   "metadata": {},
   "outputs": [],
   "source": [
    "from sklearn.feature_extraction.text import TfidfVectorizer"
   ]
  },
  {
   "cell_type": "code",
   "execution_count": 82,
   "metadata": {},
   "outputs": [],
   "source": [
    "vectorizer_tf_idf = TfidfVectorizer()"
   ]
  },
  {
   "cell_type": "code",
   "execution_count": 83,
   "metadata": {},
   "outputs": [],
   "source": [
    "X_train_tfidf_stem, X_test_tfidf_stem = bow(vectorizer_tf_idf,\n",
    "                                            newsgroups_train.data_stemming,\n",
    "                                            newsgroups_test.data_stemming)"
   ]
  },
  {
   "cell_type": "code",
   "execution_count": 84,
   "metadata": {},
   "outputs": [
    {
     "data": {
      "text/plain": [
       "(11314, 61221)"
      ]
     },
     "execution_count": 84,
     "metadata": {},
     "output_type": "execute_result"
    }
   ],
   "source": [
    "X_train_tfidf_stem.shape"
   ]
  },
  {
   "cell_type": "code",
   "execution_count": 85,
   "metadata": {},
   "outputs": [
    {
     "data": {
      "text/plain": [
       "(7532, 61221)"
      ]
     },
     "execution_count": 85,
     "metadata": {},
     "output_type": "execute_result"
    }
   ],
   "source": [
    "X_test_tfidf_stem.shape"
   ]
  },
  {
   "cell_type": "markdown",
   "metadata": {},
   "source": [
    "TF-IDF and N-grams"
   ]
  },
  {
   "cell_type": "code",
   "execution_count": 86,
   "metadata": {},
   "outputs": [],
   "source": [
    "vectorizer_ngram = TfidfVectorizer(ngram_range=(1,2))"
   ]
  },
  {
   "cell_type": "code",
   "execution_count": 87,
   "metadata": {},
   "outputs": [],
   "source": [
    "X_train_ngram_stem, X_test_ngram_stem = bow(vectorizer_ngram, \n",
    "                                            newsgroups_train.data_stemming,\n",
    "                                            newsgroups_test.data_stemming)"
   ]
  },
  {
   "cell_type": "code",
   "execution_count": 88,
   "metadata": {},
   "outputs": [
    {
     "data": {
      "text/plain": [
       "(11314, 934463)"
      ]
     },
     "execution_count": 88,
     "metadata": {},
     "output_type": "execute_result"
    }
   ],
   "source": [
    "X_train_ngram_stem.shape"
   ]
  },
  {
   "cell_type": "code",
   "execution_count": 89,
   "metadata": {},
   "outputs": [
    {
     "data": {
      "text/plain": [
       "(7532, 934463)"
      ]
     },
     "execution_count": 89,
     "metadata": {},
     "output_type": "execute_result"
    }
   ],
   "source": [
    "X_test_ngram_stem.shape"
   ]
  },
  {
   "cell_type": "markdown",
   "metadata": {},
   "source": [
    "Logistic regression for classification (TF-IDF and n-grams)\n"
   ]
  },
  {
   "cell_type": "code",
   "execution_count": 90,
   "metadata": {},
   "outputs": [
    {
     "name": "stdout",
     "output_type": "stream",
     "text": [
      "LogisticRegression:  0.8295273499734467\n"
     ]
    }
   ],
   "source": [
    "clf.fit(X_train_ngram_stem, newsgroups_train.target)\n",
    "print ('LogisticRegression: ',\n",
    "       accuracy_score(clf.predict(X_test_ngram_stem), \n",
    "                      newsgroups_test.target))\n",
    "\n"
   ]
  },
  {
   "cell_type": "markdown",
   "metadata": {},
   "source": [
    "LinearSVC for classification (BagOfWords on data after stemming)"
   ]
  },
  {
   "cell_type": "code",
   "execution_count": 91,
   "metadata": {},
   "outputs": [],
   "source": [
    "from sklearn.svm import LinearSVC\n",
    "clf_svc = LinearSVC()"
   ]
  },
  {
   "cell_type": "code",
   "execution_count": 96,
   "metadata": {},
   "outputs": [
    {
     "name": "stdout",
     "output_type": "stream",
     "text": [
      "LinearSVC:  0.7813329792883696\n"
     ]
    }
   ],
   "source": [
    "clf_svc.fit(X_train_bow_stem, newsgroups_train.target)\n",
    "print ('LinearSVC: ',\n",
    "       accuracy_score(clf_svc.predict(X_test_bow_stem),\n",
    "                      newsgroups_test.target))"
   ]
  },
  {
   "cell_type": "markdown",
   "metadata": {},
   "source": [
    "LinearSVC for classification (TF-IDF and n-grams)"
   ]
  },
  {
   "cell_type": "code",
   "execution_count": 93,
   "metadata": {},
   "outputs": [
    {
     "name": "stdout",
     "output_type": "stream",
     "text": [
      "LinearSVC:  0.8555496548061604\n"
     ]
    }
   ],
   "source": [
    "clf_svc.fit(X_train_ngram_stem, newsgroups_train.target)\n",
    "print ('LinearSVC: ',\n",
    "       accuracy_score(clf_svc.predict(X_test_ngram_stem),\n",
    "                      newsgroups_test.target))"
   ]
  },
  {
   "cell_type": "code",
   "execution_count": 94,
   "metadata": {},
   "outputs": [],
   "source": [
    "# Confusion matrix will show the texts which the model has mixed up\n",
    "import seaborn\n",
    "from sklearn.metrics import confusion_matrix"
   ]
  },
  {
   "cell_type": "code",
   "execution_count": 95,
   "metadata": {},
   "outputs": [],
   "source": [
    "predict_targets = clf_svc.predict(X_test_ngram_stem)"
   ]
  },
  {
   "cell_type": "code",
   "execution_count": 97,
   "metadata": {},
   "outputs": [
    {
     "data": {
      "text/plain": [
       "<AxesSubplot:>"
      ]
     },
     "execution_count": 97,
     "metadata": {},
     "output_type": "execute_result"
    },
    {
     "data": {
      "image/png": "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\n",
      "text/plain": [
       "<Figure size 432x288 with 2 Axes>"
      ]
     },
     "metadata": {
      "needs_background": "light"
     },
     "output_type": "display_data"
    }
   ],
   "source": [
    "seaborn.heatmap(confusion_matrix(newsgroups_test.target, predict_targets))  "
   ]
  },
  {
   "cell_type": "code",
   "execution_count": 98,
   "metadata": {},
   "outputs": [
    {
     "data": {
      "text/plain": [
       "'talk.politics.misc'"
      ]
     },
     "execution_count": 98,
     "metadata": {},
     "output_type": "execute_result"
    }
   ],
   "source": [
    "newsgroups_test.target_names[18]"
   ]
  },
  {
   "cell_type": "code",
   "execution_count": 99,
   "metadata": {},
   "outputs": [
    {
     "data": {
      "text/plain": [
       "'talk.politics.guns'"
      ]
     },
     "execution_count": 99,
     "metadata": {},
     "output_type": "execute_result"
    }
   ],
   "source": [
    "newsgroups_test.target_names[16]"
   ]
  },
  {
   "cell_type": "code",
   "execution_count": null,
   "metadata": {},
   "outputs": [],
   "source": []
  }
 ],
 "metadata": {
  "kernelspec": {
   "display_name": "Python 3",
   "language": "python",
   "name": "python3"
  },
  "language_info": {
   "codemirror_mode": {
    "name": "ipython",
    "version": 3
   },
   "file_extension": ".py",
   "mimetype": "text/x-python",
   "name": "python",
   "nbconvert_exporter": "python",
   "pygments_lexer": "ipython3",
   "version": "3.8.5"
  }
 },
 "nbformat": 4,
 "nbformat_minor": 4
}
